{
  "nbformat": 4,
  "nbformat_minor": 0,
  "metadata": {
    "colab": {
      "name": "Gold Price Prediction.ipynb",
      "provenance": []
    },
    "kernelspec": {
      "name": "python3",
      "display_name": "Python 3"
    },
    "language_info": {
      "name": "python"
    }
  },
  "cells": [
    {
      "cell_type": "code",
      "execution_count": 28,
      "metadata": {
        "id": "SlUALReL8wnS"
      },
      "outputs": [],
      "source": [
        "import numpy as np\n",
        "import pandas as pd\n",
        "import matplotlib.pyplot as plt\n",
        "import seaborn as sns\n",
        "from sklearn.model_selection import train_test_split\n",
        "from sklearn.ensemble import RandomForestRegressor\n",
        "from sklearn import metrics"
      ]
    },
    {
      "cell_type": "markdown",
      "source": [
        "Data Collection and Processing"
      ],
      "metadata": {
        "id": "4fZmE01p_HUX"
      }
    },
    {
      "cell_type": "code",
      "source": [
        "gold_data = pd.read_csv('/gld_price_data.csv')"
      ],
      "metadata": {
        "id": "BSRzDqE-_Lip"
      },
      "execution_count": 2,
      "outputs": []
    },
    {
      "cell_type": "code",
      "source": [
        "gold_data.head()"
      ],
      "metadata": {
        "colab": {
          "base_uri": "https://localhost:8080/",
          "height": 206
        },
        "id": "01bYBx-f_Z7L",
        "outputId": "3aada331-8bea-4edd-b12c-6823f4657915"
      },
      "execution_count": 3,
      "outputs": [
        {
          "output_type": "execute_result",
          "data": {
            "text/plain": [
              "       Date          SPX        GLD        USO     SLV   EUR/USD\n",
              "0  1/2/2008  1447.160034  84.860001  78.470001  15.180  1.471692\n",
              "1  1/3/2008  1447.160034  85.570000  78.370003  15.285  1.474491\n",
              "2  1/4/2008  1411.630005  85.129997  77.309998  15.167  1.475492\n",
              "3  1/7/2008  1416.180054  84.769997  75.500000  15.053  1.468299\n",
              "4  1/8/2008  1390.189941  86.779999  76.059998  15.590  1.557099"
            ],
            "text/html": [
              "\n",
              "  <div id=\"df-ede07e54-48a4-4929-ac0c-e62043c7c2a7\">\n",
              "    <div class=\"colab-df-container\">\n",
              "      <div>\n",
              "<style scoped>\n",
              "    .dataframe tbody tr th:only-of-type {\n",
              "        vertical-align: middle;\n",
              "    }\n",
              "\n",
              "    .dataframe tbody tr th {\n",
              "        vertical-align: top;\n",
              "    }\n",
              "\n",
              "    .dataframe thead th {\n",
              "        text-align: right;\n",
              "    }\n",
              "</style>\n",
              "<table border=\"1\" class=\"dataframe\">\n",
              "  <thead>\n",
              "    <tr style=\"text-align: right;\">\n",
              "      <th></th>\n",
              "      <th>Date</th>\n",
              "      <th>SPX</th>\n",
              "      <th>GLD</th>\n",
              "      <th>USO</th>\n",
              "      <th>SLV</th>\n",
              "      <th>EUR/USD</th>\n",
              "    </tr>\n",
              "  </thead>\n",
              "  <tbody>\n",
              "    <tr>\n",
              "      <th>0</th>\n",
              "      <td>1/2/2008</td>\n",
              "      <td>1447.160034</td>\n",
              "      <td>84.860001</td>\n",
              "      <td>78.470001</td>\n",
              "      <td>15.180</td>\n",
              "      <td>1.471692</td>\n",
              "    </tr>\n",
              "    <tr>\n",
              "      <th>1</th>\n",
              "      <td>1/3/2008</td>\n",
              "      <td>1447.160034</td>\n",
              "      <td>85.570000</td>\n",
              "      <td>78.370003</td>\n",
              "      <td>15.285</td>\n",
              "      <td>1.474491</td>\n",
              "    </tr>\n",
              "    <tr>\n",
              "      <th>2</th>\n",
              "      <td>1/4/2008</td>\n",
              "      <td>1411.630005</td>\n",
              "      <td>85.129997</td>\n",
              "      <td>77.309998</td>\n",
              "      <td>15.167</td>\n",
              "      <td>1.475492</td>\n",
              "    </tr>\n",
              "    <tr>\n",
              "      <th>3</th>\n",
              "      <td>1/7/2008</td>\n",
              "      <td>1416.180054</td>\n",
              "      <td>84.769997</td>\n",
              "      <td>75.500000</td>\n",
              "      <td>15.053</td>\n",
              "      <td>1.468299</td>\n",
              "    </tr>\n",
              "    <tr>\n",
              "      <th>4</th>\n",
              "      <td>1/8/2008</td>\n",
              "      <td>1390.189941</td>\n",
              "      <td>86.779999</td>\n",
              "      <td>76.059998</td>\n",
              "      <td>15.590</td>\n",
              "      <td>1.557099</td>\n",
              "    </tr>\n",
              "  </tbody>\n",
              "</table>\n",
              "</div>\n",
              "      <button class=\"colab-df-convert\" onclick=\"convertToInteractive('df-ede07e54-48a4-4929-ac0c-e62043c7c2a7')\"\n",
              "              title=\"Convert this dataframe to an interactive table.\"\n",
              "              style=\"display:none;\">\n",
              "        \n",
              "  <svg xmlns=\"http://www.w3.org/2000/svg\" height=\"24px\"viewBox=\"0 0 24 24\"\n",
              "       width=\"24px\">\n",
              "    <path d=\"M0 0h24v24H0V0z\" fill=\"none\"/>\n",
              "    <path d=\"M18.56 5.44l.94 2.06.94-2.06 2.06-.94-2.06-.94-.94-2.06-.94 2.06-2.06.94zm-11 1L8.5 8.5l.94-2.06 2.06-.94-2.06-.94L8.5 2.5l-.94 2.06-2.06.94zm10 10l.94 2.06.94-2.06 2.06-.94-2.06-.94-.94-2.06-.94 2.06-2.06.94z\"/><path d=\"M17.41 7.96l-1.37-1.37c-.4-.4-.92-.59-1.43-.59-.52 0-1.04.2-1.43.59L10.3 9.45l-7.72 7.72c-.78.78-.78 2.05 0 2.83L4 21.41c.39.39.9.59 1.41.59.51 0 1.02-.2 1.41-.59l7.78-7.78 2.81-2.81c.8-.78.8-2.07 0-2.86zM5.41 20L4 18.59l7.72-7.72 1.47 1.35L5.41 20z\"/>\n",
              "  </svg>\n",
              "      </button>\n",
              "      \n",
              "  <style>\n",
              "    .colab-df-container {\n",
              "      display:flex;\n",
              "      flex-wrap:wrap;\n",
              "      gap: 12px;\n",
              "    }\n",
              "\n",
              "    .colab-df-convert {\n",
              "      background-color: #E8F0FE;\n",
              "      border: none;\n",
              "      border-radius: 50%;\n",
              "      cursor: pointer;\n",
              "      display: none;\n",
              "      fill: #1967D2;\n",
              "      height: 32px;\n",
              "      padding: 0 0 0 0;\n",
              "      width: 32px;\n",
              "    }\n",
              "\n",
              "    .colab-df-convert:hover {\n",
              "      background-color: #E2EBFA;\n",
              "      box-shadow: 0px 1px 2px rgba(60, 64, 67, 0.3), 0px 1px 3px 1px rgba(60, 64, 67, 0.15);\n",
              "      fill: #174EA6;\n",
              "    }\n",
              "\n",
              "    [theme=dark] .colab-df-convert {\n",
              "      background-color: #3B4455;\n",
              "      fill: #D2E3FC;\n",
              "    }\n",
              "\n",
              "    [theme=dark] .colab-df-convert:hover {\n",
              "      background-color: #434B5C;\n",
              "      box-shadow: 0px 1px 3px 1px rgba(0, 0, 0, 0.15);\n",
              "      filter: drop-shadow(0px 1px 2px rgba(0, 0, 0, 0.3));\n",
              "      fill: #FFFFFF;\n",
              "    }\n",
              "  </style>\n",
              "\n",
              "      <script>\n",
              "        const buttonEl =\n",
              "          document.querySelector('#df-ede07e54-48a4-4929-ac0c-e62043c7c2a7 button.colab-df-convert');\n",
              "        buttonEl.style.display =\n",
              "          google.colab.kernel.accessAllowed ? 'block' : 'none';\n",
              "\n",
              "        async function convertToInteractive(key) {\n",
              "          const element = document.querySelector('#df-ede07e54-48a4-4929-ac0c-e62043c7c2a7');\n",
              "          const dataTable =\n",
              "            await google.colab.kernel.invokeFunction('convertToInteractive',\n",
              "                                                     [key], {});\n",
              "          if (!dataTable) return;\n",
              "\n",
              "          const docLinkHtml = 'Like what you see? Visit the ' +\n",
              "            '<a target=\"_blank\" href=https://colab.research.google.com/notebooks/data_table.ipynb>data table notebook</a>'\n",
              "            + ' to learn more about interactive tables.';\n",
              "          element.innerHTML = '';\n",
              "          dataTable['output_type'] = 'display_data';\n",
              "          await google.colab.output.renderOutput(dataTable, element);\n",
              "          const docLink = document.createElement('div');\n",
              "          docLink.innerHTML = docLinkHtml;\n",
              "          element.appendChild(docLink);\n",
              "        }\n",
              "      </script>\n",
              "    </div>\n",
              "  </div>\n",
              "  "
            ]
          },
          "metadata": {},
          "execution_count": 3
        }
      ]
    },
    {
      "cell_type": "code",
      "source": [
        ""
      ],
      "metadata": {
        "id": "R7kUjqdJRpZR"
      },
      "execution_count": null,
      "outputs": []
    },
    {
      "cell_type": "code",
      "source": [
        "gold_data.head(20)"
      ],
      "metadata": {
        "colab": {
          "base_uri": "https://localhost:8080/",
          "height": 677
        },
        "id": "6Xw3kH0vRp09",
        "outputId": "3669a92a-a300-4a55-9fcc-58ace8a5c61d"
      },
      "execution_count": 38,
      "outputs": [
        {
          "output_type": "execute_result",
          "data": {
            "text/plain": [
              "         Date          SPX        GLD        USO        SLV   EUR/USD\n",
              "0    1/2/2008  1447.160034  84.860001  78.470001  15.180000  1.471692\n",
              "1    1/3/2008  1447.160034  85.570000  78.370003  15.285000  1.474491\n",
              "2    1/4/2008  1411.630005  85.129997  77.309998  15.167000  1.475492\n",
              "3    1/7/2008  1416.180054  84.769997  75.500000  15.053000  1.468299\n",
              "4    1/8/2008  1390.189941  86.779999  76.059998  15.590000  1.557099\n",
              "5    1/9/2008  1409.130005  86.550003  75.250000  15.520000  1.466405\n",
              "6   1/10/2008  1420.329956  88.250000  74.019997  16.061001  1.480100\n",
              "7   1/11/2008  1401.020020  88.580002  73.089996  16.077000  1.479006\n",
              "8   1/14/2008  1416.250000  89.540001  74.250000  16.280001  1.486900\n",
              "9   1/15/2008  1380.949951  87.989998  72.779999  15.834000  1.480210\n",
              "10  1/16/2008  1373.199951  86.699997  71.849998  15.654000  1.466405\n",
              "11  1/17/2008  1333.250000  86.500000  71.029999  15.717000  1.464000\n",
              "12  1/18/2008  1325.189941  87.419998  71.540001  16.030001  1.461796\n",
              "13  1/22/2008  1310.500000  88.169998  70.550003  15.902000  1.464794\n",
              "14  1/23/2008  1338.599976  87.889999  69.500000  15.900000  1.463208\n",
              "15  1/24/2008  1352.069946  90.080002  70.930000  16.299999  1.477410\n",
              "16  1/25/2008  1330.609985  90.300003  71.910004  16.298000  1.467502\n",
              "17  1/28/2008  1353.959961  91.750000  72.349998  16.549999  1.478809\n",
              "18  1/29/2008  1362.300049  91.150002  72.980003  16.534000  1.477192\n",
              "19  1/30/2008  1355.810059  92.059998  73.080002  16.674999  1.483107"
            ],
            "text/html": [
              "\n",
              "  <div id=\"df-c4af0536-8956-4c9b-9450-55f392f55051\">\n",
              "    <div class=\"colab-df-container\">\n",
              "      <div>\n",
              "<style scoped>\n",
              "    .dataframe tbody tr th:only-of-type {\n",
              "        vertical-align: middle;\n",
              "    }\n",
              "\n",
              "    .dataframe tbody tr th {\n",
              "        vertical-align: top;\n",
              "    }\n",
              "\n",
              "    .dataframe thead th {\n",
              "        text-align: right;\n",
              "    }\n",
              "</style>\n",
              "<table border=\"1\" class=\"dataframe\">\n",
              "  <thead>\n",
              "    <tr style=\"text-align: right;\">\n",
              "      <th></th>\n",
              "      <th>Date</th>\n",
              "      <th>SPX</th>\n",
              "      <th>GLD</th>\n",
              "      <th>USO</th>\n",
              "      <th>SLV</th>\n",
              "      <th>EUR/USD</th>\n",
              "    </tr>\n",
              "  </thead>\n",
              "  <tbody>\n",
              "    <tr>\n",
              "      <th>0</th>\n",
              "      <td>1/2/2008</td>\n",
              "      <td>1447.160034</td>\n",
              "      <td>84.860001</td>\n",
              "      <td>78.470001</td>\n",
              "      <td>15.180000</td>\n",
              "      <td>1.471692</td>\n",
              "    </tr>\n",
              "    <tr>\n",
              "      <th>1</th>\n",
              "      <td>1/3/2008</td>\n",
              "      <td>1447.160034</td>\n",
              "      <td>85.570000</td>\n",
              "      <td>78.370003</td>\n",
              "      <td>15.285000</td>\n",
              "      <td>1.474491</td>\n",
              "    </tr>\n",
              "    <tr>\n",
              "      <th>2</th>\n",
              "      <td>1/4/2008</td>\n",
              "      <td>1411.630005</td>\n",
              "      <td>85.129997</td>\n",
              "      <td>77.309998</td>\n",
              "      <td>15.167000</td>\n",
              "      <td>1.475492</td>\n",
              "    </tr>\n",
              "    <tr>\n",
              "      <th>3</th>\n",
              "      <td>1/7/2008</td>\n",
              "      <td>1416.180054</td>\n",
              "      <td>84.769997</td>\n",
              "      <td>75.500000</td>\n",
              "      <td>15.053000</td>\n",
              "      <td>1.468299</td>\n",
              "    </tr>\n",
              "    <tr>\n",
              "      <th>4</th>\n",
              "      <td>1/8/2008</td>\n",
              "      <td>1390.189941</td>\n",
              "      <td>86.779999</td>\n",
              "      <td>76.059998</td>\n",
              "      <td>15.590000</td>\n",
              "      <td>1.557099</td>\n",
              "    </tr>\n",
              "    <tr>\n",
              "      <th>5</th>\n",
              "      <td>1/9/2008</td>\n",
              "      <td>1409.130005</td>\n",
              "      <td>86.550003</td>\n",
              "      <td>75.250000</td>\n",
              "      <td>15.520000</td>\n",
              "      <td>1.466405</td>\n",
              "    </tr>\n",
              "    <tr>\n",
              "      <th>6</th>\n",
              "      <td>1/10/2008</td>\n",
              "      <td>1420.329956</td>\n",
              "      <td>88.250000</td>\n",
              "      <td>74.019997</td>\n",
              "      <td>16.061001</td>\n",
              "      <td>1.480100</td>\n",
              "    </tr>\n",
              "    <tr>\n",
              "      <th>7</th>\n",
              "      <td>1/11/2008</td>\n",
              "      <td>1401.020020</td>\n",
              "      <td>88.580002</td>\n",
              "      <td>73.089996</td>\n",
              "      <td>16.077000</td>\n",
              "      <td>1.479006</td>\n",
              "    </tr>\n",
              "    <tr>\n",
              "      <th>8</th>\n",
              "      <td>1/14/2008</td>\n",
              "      <td>1416.250000</td>\n",
              "      <td>89.540001</td>\n",
              "      <td>74.250000</td>\n",
              "      <td>16.280001</td>\n",
              "      <td>1.486900</td>\n",
              "    </tr>\n",
              "    <tr>\n",
              "      <th>9</th>\n",
              "      <td>1/15/2008</td>\n",
              "      <td>1380.949951</td>\n",
              "      <td>87.989998</td>\n",
              "      <td>72.779999</td>\n",
              "      <td>15.834000</td>\n",
              "      <td>1.480210</td>\n",
              "    </tr>\n",
              "    <tr>\n",
              "      <th>10</th>\n",
              "      <td>1/16/2008</td>\n",
              "      <td>1373.199951</td>\n",
              "      <td>86.699997</td>\n",
              "      <td>71.849998</td>\n",
              "      <td>15.654000</td>\n",
              "      <td>1.466405</td>\n",
              "    </tr>\n",
              "    <tr>\n",
              "      <th>11</th>\n",
              "      <td>1/17/2008</td>\n",
              "      <td>1333.250000</td>\n",
              "      <td>86.500000</td>\n",
              "      <td>71.029999</td>\n",
              "      <td>15.717000</td>\n",
              "      <td>1.464000</td>\n",
              "    </tr>\n",
              "    <tr>\n",
              "      <th>12</th>\n",
              "      <td>1/18/2008</td>\n",
              "      <td>1325.189941</td>\n",
              "      <td>87.419998</td>\n",
              "      <td>71.540001</td>\n",
              "      <td>16.030001</td>\n",
              "      <td>1.461796</td>\n",
              "    </tr>\n",
              "    <tr>\n",
              "      <th>13</th>\n",
              "      <td>1/22/2008</td>\n",
              "      <td>1310.500000</td>\n",
              "      <td>88.169998</td>\n",
              "      <td>70.550003</td>\n",
              "      <td>15.902000</td>\n",
              "      <td>1.464794</td>\n",
              "    </tr>\n",
              "    <tr>\n",
              "      <th>14</th>\n",
              "      <td>1/23/2008</td>\n",
              "      <td>1338.599976</td>\n",
              "      <td>87.889999</td>\n",
              "      <td>69.500000</td>\n",
              "      <td>15.900000</td>\n",
              "      <td>1.463208</td>\n",
              "    </tr>\n",
              "    <tr>\n",
              "      <th>15</th>\n",
              "      <td>1/24/2008</td>\n",
              "      <td>1352.069946</td>\n",
              "      <td>90.080002</td>\n",
              "      <td>70.930000</td>\n",
              "      <td>16.299999</td>\n",
              "      <td>1.477410</td>\n",
              "    </tr>\n",
              "    <tr>\n",
              "      <th>16</th>\n",
              "      <td>1/25/2008</td>\n",
              "      <td>1330.609985</td>\n",
              "      <td>90.300003</td>\n",
              "      <td>71.910004</td>\n",
              "      <td>16.298000</td>\n",
              "      <td>1.467502</td>\n",
              "    </tr>\n",
              "    <tr>\n",
              "      <th>17</th>\n",
              "      <td>1/28/2008</td>\n",
              "      <td>1353.959961</td>\n",
              "      <td>91.750000</td>\n",
              "      <td>72.349998</td>\n",
              "      <td>16.549999</td>\n",
              "      <td>1.478809</td>\n",
              "    </tr>\n",
              "    <tr>\n",
              "      <th>18</th>\n",
              "      <td>1/29/2008</td>\n",
              "      <td>1362.300049</td>\n",
              "      <td>91.150002</td>\n",
              "      <td>72.980003</td>\n",
              "      <td>16.534000</td>\n",
              "      <td>1.477192</td>\n",
              "    </tr>\n",
              "    <tr>\n",
              "      <th>19</th>\n",
              "      <td>1/30/2008</td>\n",
              "      <td>1355.810059</td>\n",
              "      <td>92.059998</td>\n",
              "      <td>73.080002</td>\n",
              "      <td>16.674999</td>\n",
              "      <td>1.483107</td>\n",
              "    </tr>\n",
              "  </tbody>\n",
              "</table>\n",
              "</div>\n",
              "      <button class=\"colab-df-convert\" onclick=\"convertToInteractive('df-c4af0536-8956-4c9b-9450-55f392f55051')\"\n",
              "              title=\"Convert this dataframe to an interactive table.\"\n",
              "              style=\"display:none;\">\n",
              "        \n",
              "  <svg xmlns=\"http://www.w3.org/2000/svg\" height=\"24px\"viewBox=\"0 0 24 24\"\n",
              "       width=\"24px\">\n",
              "    <path d=\"M0 0h24v24H0V0z\" fill=\"none\"/>\n",
              "    <path d=\"M18.56 5.44l.94 2.06.94-2.06 2.06-.94-2.06-.94-.94-2.06-.94 2.06-2.06.94zm-11 1L8.5 8.5l.94-2.06 2.06-.94-2.06-.94L8.5 2.5l-.94 2.06-2.06.94zm10 10l.94 2.06.94-2.06 2.06-.94-2.06-.94-.94-2.06-.94 2.06-2.06.94z\"/><path d=\"M17.41 7.96l-1.37-1.37c-.4-.4-.92-.59-1.43-.59-.52 0-1.04.2-1.43.59L10.3 9.45l-7.72 7.72c-.78.78-.78 2.05 0 2.83L4 21.41c.39.39.9.59 1.41.59.51 0 1.02-.2 1.41-.59l7.78-7.78 2.81-2.81c.8-.78.8-2.07 0-2.86zM5.41 20L4 18.59l7.72-7.72 1.47 1.35L5.41 20z\"/>\n",
              "  </svg>\n",
              "      </button>\n",
              "      \n",
              "  <style>\n",
              "    .colab-df-container {\n",
              "      display:flex;\n",
              "      flex-wrap:wrap;\n",
              "      gap: 12px;\n",
              "    }\n",
              "\n",
              "    .colab-df-convert {\n",
              "      background-color: #E8F0FE;\n",
              "      border: none;\n",
              "      border-radius: 50%;\n",
              "      cursor: pointer;\n",
              "      display: none;\n",
              "      fill: #1967D2;\n",
              "      height: 32px;\n",
              "      padding: 0 0 0 0;\n",
              "      width: 32px;\n",
              "    }\n",
              "\n",
              "    .colab-df-convert:hover {\n",
              "      background-color: #E2EBFA;\n",
              "      box-shadow: 0px 1px 2px rgba(60, 64, 67, 0.3), 0px 1px 3px 1px rgba(60, 64, 67, 0.15);\n",
              "      fill: #174EA6;\n",
              "    }\n",
              "\n",
              "    [theme=dark] .colab-df-convert {\n",
              "      background-color: #3B4455;\n",
              "      fill: #D2E3FC;\n",
              "    }\n",
              "\n",
              "    [theme=dark] .colab-df-convert:hover {\n",
              "      background-color: #434B5C;\n",
              "      box-shadow: 0px 1px 3px 1px rgba(0, 0, 0, 0.15);\n",
              "      filter: drop-shadow(0px 1px 2px rgba(0, 0, 0, 0.3));\n",
              "      fill: #FFFFFF;\n",
              "    }\n",
              "  </style>\n",
              "\n",
              "      <script>\n",
              "        const buttonEl =\n",
              "          document.querySelector('#df-c4af0536-8956-4c9b-9450-55f392f55051 button.colab-df-convert');\n",
              "        buttonEl.style.display =\n",
              "          google.colab.kernel.accessAllowed ? 'block' : 'none';\n",
              "\n",
              "        async function convertToInteractive(key) {\n",
              "          const element = document.querySelector('#df-c4af0536-8956-4c9b-9450-55f392f55051');\n",
              "          const dataTable =\n",
              "            await google.colab.kernel.invokeFunction('convertToInteractive',\n",
              "                                                     [key], {});\n",
              "          if (!dataTable) return;\n",
              "\n",
              "          const docLinkHtml = 'Like what you see? Visit the ' +\n",
              "            '<a target=\"_blank\" href=https://colab.research.google.com/notebooks/data_table.ipynb>data table notebook</a>'\n",
              "            + ' to learn more about interactive tables.';\n",
              "          element.innerHTML = '';\n",
              "          dataTable['output_type'] = 'display_data';\n",
              "          await google.colab.output.renderOutput(dataTable, element);\n",
              "          const docLink = document.createElement('div');\n",
              "          docLink.innerHTML = docLinkHtml;\n",
              "          element.appendChild(docLink);\n",
              "        }\n",
              "      </script>\n",
              "    </div>\n",
              "  </div>\n",
              "  "
            ]
          },
          "metadata": {},
          "execution_count": 38
        }
      ]
    },
    {
      "cell_type": "code",
      "source": [
        "gold_data.tail()"
      ],
      "metadata": {
        "colab": {
          "base_uri": "https://localhost:8080/",
          "height": 206
        },
        "id": "3glZq2LV_hUV",
        "outputId": "bea12f5a-7702-4a1a-b70a-2361bd978a2a"
      },
      "execution_count": 4,
      "outputs": [
        {
          "output_type": "execute_result",
          "data": {
            "text/plain": [
              "           Date          SPX         GLD      USO      SLV   EUR/USD\n",
              "2285   5/8/2018  2671.919922  124.589996  14.0600  15.5100  1.186789\n",
              "2286   5/9/2018  2697.790039  124.330002  14.3700  15.5300  1.184722\n",
              "2287  5/10/2018  2723.070068  125.180000  14.4100  15.7400  1.191753\n",
              "2288  5/14/2018  2730.129883  124.489998  14.3800  15.5600  1.193118\n",
              "2289  5/16/2018  2725.780029  122.543800  14.4058  15.4542  1.182033"
            ],
            "text/html": [
              "\n",
              "  <div id=\"df-2f78306f-347e-4892-bd2d-0a52eb3e98e6\">\n",
              "    <div class=\"colab-df-container\">\n",
              "      <div>\n",
              "<style scoped>\n",
              "    .dataframe tbody tr th:only-of-type {\n",
              "        vertical-align: middle;\n",
              "    }\n",
              "\n",
              "    .dataframe tbody tr th {\n",
              "        vertical-align: top;\n",
              "    }\n",
              "\n",
              "    .dataframe thead th {\n",
              "        text-align: right;\n",
              "    }\n",
              "</style>\n",
              "<table border=\"1\" class=\"dataframe\">\n",
              "  <thead>\n",
              "    <tr style=\"text-align: right;\">\n",
              "      <th></th>\n",
              "      <th>Date</th>\n",
              "      <th>SPX</th>\n",
              "      <th>GLD</th>\n",
              "      <th>USO</th>\n",
              "      <th>SLV</th>\n",
              "      <th>EUR/USD</th>\n",
              "    </tr>\n",
              "  </thead>\n",
              "  <tbody>\n",
              "    <tr>\n",
              "      <th>2285</th>\n",
              "      <td>5/8/2018</td>\n",
              "      <td>2671.919922</td>\n",
              "      <td>124.589996</td>\n",
              "      <td>14.0600</td>\n",
              "      <td>15.5100</td>\n",
              "      <td>1.186789</td>\n",
              "    </tr>\n",
              "    <tr>\n",
              "      <th>2286</th>\n",
              "      <td>5/9/2018</td>\n",
              "      <td>2697.790039</td>\n",
              "      <td>124.330002</td>\n",
              "      <td>14.3700</td>\n",
              "      <td>15.5300</td>\n",
              "      <td>1.184722</td>\n",
              "    </tr>\n",
              "    <tr>\n",
              "      <th>2287</th>\n",
              "      <td>5/10/2018</td>\n",
              "      <td>2723.070068</td>\n",
              "      <td>125.180000</td>\n",
              "      <td>14.4100</td>\n",
              "      <td>15.7400</td>\n",
              "      <td>1.191753</td>\n",
              "    </tr>\n",
              "    <tr>\n",
              "      <th>2288</th>\n",
              "      <td>5/14/2018</td>\n",
              "      <td>2730.129883</td>\n",
              "      <td>124.489998</td>\n",
              "      <td>14.3800</td>\n",
              "      <td>15.5600</td>\n",
              "      <td>1.193118</td>\n",
              "    </tr>\n",
              "    <tr>\n",
              "      <th>2289</th>\n",
              "      <td>5/16/2018</td>\n",
              "      <td>2725.780029</td>\n",
              "      <td>122.543800</td>\n",
              "      <td>14.4058</td>\n",
              "      <td>15.4542</td>\n",
              "      <td>1.182033</td>\n",
              "    </tr>\n",
              "  </tbody>\n",
              "</table>\n",
              "</div>\n",
              "      <button class=\"colab-df-convert\" onclick=\"convertToInteractive('df-2f78306f-347e-4892-bd2d-0a52eb3e98e6')\"\n",
              "              title=\"Convert this dataframe to an interactive table.\"\n",
              "              style=\"display:none;\">\n",
              "        \n",
              "  <svg xmlns=\"http://www.w3.org/2000/svg\" height=\"24px\"viewBox=\"0 0 24 24\"\n",
              "       width=\"24px\">\n",
              "    <path d=\"M0 0h24v24H0V0z\" fill=\"none\"/>\n",
              "    <path d=\"M18.56 5.44l.94 2.06.94-2.06 2.06-.94-2.06-.94-.94-2.06-.94 2.06-2.06.94zm-11 1L8.5 8.5l.94-2.06 2.06-.94-2.06-.94L8.5 2.5l-.94 2.06-2.06.94zm10 10l.94 2.06.94-2.06 2.06-.94-2.06-.94-.94-2.06-.94 2.06-2.06.94z\"/><path d=\"M17.41 7.96l-1.37-1.37c-.4-.4-.92-.59-1.43-.59-.52 0-1.04.2-1.43.59L10.3 9.45l-7.72 7.72c-.78.78-.78 2.05 0 2.83L4 21.41c.39.39.9.59 1.41.59.51 0 1.02-.2 1.41-.59l7.78-7.78 2.81-2.81c.8-.78.8-2.07 0-2.86zM5.41 20L4 18.59l7.72-7.72 1.47 1.35L5.41 20z\"/>\n",
              "  </svg>\n",
              "      </button>\n",
              "      \n",
              "  <style>\n",
              "    .colab-df-container {\n",
              "      display:flex;\n",
              "      flex-wrap:wrap;\n",
              "      gap: 12px;\n",
              "    }\n",
              "\n",
              "    .colab-df-convert {\n",
              "      background-color: #E8F0FE;\n",
              "      border: none;\n",
              "      border-radius: 50%;\n",
              "      cursor: pointer;\n",
              "      display: none;\n",
              "      fill: #1967D2;\n",
              "      height: 32px;\n",
              "      padding: 0 0 0 0;\n",
              "      width: 32px;\n",
              "    }\n",
              "\n",
              "    .colab-df-convert:hover {\n",
              "      background-color: #E2EBFA;\n",
              "      box-shadow: 0px 1px 2px rgba(60, 64, 67, 0.3), 0px 1px 3px 1px rgba(60, 64, 67, 0.15);\n",
              "      fill: #174EA6;\n",
              "    }\n",
              "\n",
              "    [theme=dark] .colab-df-convert {\n",
              "      background-color: #3B4455;\n",
              "      fill: #D2E3FC;\n",
              "    }\n",
              "\n",
              "    [theme=dark] .colab-df-convert:hover {\n",
              "      background-color: #434B5C;\n",
              "      box-shadow: 0px 1px 3px 1px rgba(0, 0, 0, 0.15);\n",
              "      filter: drop-shadow(0px 1px 2px rgba(0, 0, 0, 0.3));\n",
              "      fill: #FFFFFF;\n",
              "    }\n",
              "  </style>\n",
              "\n",
              "      <script>\n",
              "        const buttonEl =\n",
              "          document.querySelector('#df-2f78306f-347e-4892-bd2d-0a52eb3e98e6 button.colab-df-convert');\n",
              "        buttonEl.style.display =\n",
              "          google.colab.kernel.accessAllowed ? 'block' : 'none';\n",
              "\n",
              "        async function convertToInteractive(key) {\n",
              "          const element = document.querySelector('#df-2f78306f-347e-4892-bd2d-0a52eb3e98e6');\n",
              "          const dataTable =\n",
              "            await google.colab.kernel.invokeFunction('convertToInteractive',\n",
              "                                                     [key], {});\n",
              "          if (!dataTable) return;\n",
              "\n",
              "          const docLinkHtml = 'Like what you see? Visit the ' +\n",
              "            '<a target=\"_blank\" href=https://colab.research.google.com/notebooks/data_table.ipynb>data table notebook</a>'\n",
              "            + ' to learn more about interactive tables.';\n",
              "          element.innerHTML = '';\n",
              "          dataTable['output_type'] = 'display_data';\n",
              "          await google.colab.output.renderOutput(dataTable, element);\n",
              "          const docLink = document.createElement('div');\n",
              "          docLink.innerHTML = docLinkHtml;\n",
              "          element.appendChild(docLink);\n",
              "        }\n",
              "      </script>\n",
              "    </div>\n",
              "  </div>\n",
              "  "
            ]
          },
          "metadata": {},
          "execution_count": 4
        }
      ]
    },
    {
      "cell_type": "code",
      "source": [
        "gold_data.shape"
      ],
      "metadata": {
        "colab": {
          "base_uri": "https://localhost:8080/"
        },
        "id": "SQzQFKFt_pjh",
        "outputId": "a0862cc2-4e3c-487f-d607-3c92134ac30f"
      },
      "execution_count": 5,
      "outputs": [
        {
          "output_type": "execute_result",
          "data": {
            "text/plain": [
              "(2290, 6)"
            ]
          },
          "metadata": {},
          "execution_count": 5
        }
      ]
    },
    {
      "cell_type": "code",
      "source": [
        "gold_data.info()"
      ],
      "metadata": {
        "colab": {
          "base_uri": "https://localhost:8080/"
        },
        "id": "jCjXVdJW_v74",
        "outputId": "7c3aafa7-39e8-4f60-8390-e6ea065ee950"
      },
      "execution_count": 6,
      "outputs": [
        {
          "output_type": "stream",
          "name": "stdout",
          "text": [
            "<class 'pandas.core.frame.DataFrame'>\n",
            "RangeIndex: 2290 entries, 0 to 2289\n",
            "Data columns (total 6 columns):\n",
            " #   Column   Non-Null Count  Dtype  \n",
            "---  ------   --------------  -----  \n",
            " 0   Date     2290 non-null   object \n",
            " 1   SPX      2290 non-null   float64\n",
            " 2   GLD      2290 non-null   float64\n",
            " 3   USO      2290 non-null   float64\n",
            " 4   SLV      2290 non-null   float64\n",
            " 5   EUR/USD  2290 non-null   float64\n",
            "dtypes: float64(5), object(1)\n",
            "memory usage: 107.5+ KB\n"
          ]
        }
      ]
    },
    {
      "cell_type": "code",
      "source": [
        "gold_data.isnull().sum()"
      ],
      "metadata": {
        "colab": {
          "base_uri": "https://localhost:8080/"
        },
        "id": "iQOuSlDl_4fP",
        "outputId": "6d6d4a1d-dfc8-4776-8fda-37f7ac038232"
      },
      "execution_count": 7,
      "outputs": [
        {
          "output_type": "execute_result",
          "data": {
            "text/plain": [
              "Date       0\n",
              "SPX        0\n",
              "GLD        0\n",
              "USO        0\n",
              "SLV        0\n",
              "EUR/USD    0\n",
              "dtype: int64"
            ]
          },
          "metadata": {},
          "execution_count": 7
        }
      ]
    },
    {
      "cell_type": "code",
      "source": [
        "gold_data.describe()"
      ],
      "metadata": {
        "colab": {
          "base_uri": "https://localhost:8080/",
          "height": 300
        },
        "id": "CiACmKMn_7a5",
        "outputId": "adebde01-9f4f-4397-8c90-7d439818a7be"
      },
      "execution_count": 8,
      "outputs": [
        {
          "output_type": "execute_result",
          "data": {
            "text/plain": [
              "               SPX          GLD          USO          SLV      EUR/USD\n",
              "count  2290.000000  2290.000000  2290.000000  2290.000000  2290.000000\n",
              "mean   1654.315776   122.732875    31.842221    20.084997     1.283653\n",
              "std     519.111540    23.283346    19.523517     7.092566     0.131547\n",
              "min     676.530029    70.000000     7.960000     8.850000     1.039047\n",
              "25%    1239.874969   109.725000    14.380000    15.570000     1.171313\n",
              "50%    1551.434998   120.580002    33.869999    17.268500     1.303297\n",
              "75%    2073.010070   132.840004    37.827501    22.882500     1.369971\n",
              "max    2872.870117   184.589996   117.480003    47.259998     1.598798"
            ],
            "text/html": [
              "\n",
              "  <div id=\"df-bc725bac-93e9-4850-b134-d0dd9ff97e43\">\n",
              "    <div class=\"colab-df-container\">\n",
              "      <div>\n",
              "<style scoped>\n",
              "    .dataframe tbody tr th:only-of-type {\n",
              "        vertical-align: middle;\n",
              "    }\n",
              "\n",
              "    .dataframe tbody tr th {\n",
              "        vertical-align: top;\n",
              "    }\n",
              "\n",
              "    .dataframe thead th {\n",
              "        text-align: right;\n",
              "    }\n",
              "</style>\n",
              "<table border=\"1\" class=\"dataframe\">\n",
              "  <thead>\n",
              "    <tr style=\"text-align: right;\">\n",
              "      <th></th>\n",
              "      <th>SPX</th>\n",
              "      <th>GLD</th>\n",
              "      <th>USO</th>\n",
              "      <th>SLV</th>\n",
              "      <th>EUR/USD</th>\n",
              "    </tr>\n",
              "  </thead>\n",
              "  <tbody>\n",
              "    <tr>\n",
              "      <th>count</th>\n",
              "      <td>2290.000000</td>\n",
              "      <td>2290.000000</td>\n",
              "      <td>2290.000000</td>\n",
              "      <td>2290.000000</td>\n",
              "      <td>2290.000000</td>\n",
              "    </tr>\n",
              "    <tr>\n",
              "      <th>mean</th>\n",
              "      <td>1654.315776</td>\n",
              "      <td>122.732875</td>\n",
              "      <td>31.842221</td>\n",
              "      <td>20.084997</td>\n",
              "      <td>1.283653</td>\n",
              "    </tr>\n",
              "    <tr>\n",
              "      <th>std</th>\n",
              "      <td>519.111540</td>\n",
              "      <td>23.283346</td>\n",
              "      <td>19.523517</td>\n",
              "      <td>7.092566</td>\n",
              "      <td>0.131547</td>\n",
              "    </tr>\n",
              "    <tr>\n",
              "      <th>min</th>\n",
              "      <td>676.530029</td>\n",
              "      <td>70.000000</td>\n",
              "      <td>7.960000</td>\n",
              "      <td>8.850000</td>\n",
              "      <td>1.039047</td>\n",
              "    </tr>\n",
              "    <tr>\n",
              "      <th>25%</th>\n",
              "      <td>1239.874969</td>\n",
              "      <td>109.725000</td>\n",
              "      <td>14.380000</td>\n",
              "      <td>15.570000</td>\n",
              "      <td>1.171313</td>\n",
              "    </tr>\n",
              "    <tr>\n",
              "      <th>50%</th>\n",
              "      <td>1551.434998</td>\n",
              "      <td>120.580002</td>\n",
              "      <td>33.869999</td>\n",
              "      <td>17.268500</td>\n",
              "      <td>1.303297</td>\n",
              "    </tr>\n",
              "    <tr>\n",
              "      <th>75%</th>\n",
              "      <td>2073.010070</td>\n",
              "      <td>132.840004</td>\n",
              "      <td>37.827501</td>\n",
              "      <td>22.882500</td>\n",
              "      <td>1.369971</td>\n",
              "    </tr>\n",
              "    <tr>\n",
              "      <th>max</th>\n",
              "      <td>2872.870117</td>\n",
              "      <td>184.589996</td>\n",
              "      <td>117.480003</td>\n",
              "      <td>47.259998</td>\n",
              "      <td>1.598798</td>\n",
              "    </tr>\n",
              "  </tbody>\n",
              "</table>\n",
              "</div>\n",
              "      <button class=\"colab-df-convert\" onclick=\"convertToInteractive('df-bc725bac-93e9-4850-b134-d0dd9ff97e43')\"\n",
              "              title=\"Convert this dataframe to an interactive table.\"\n",
              "              style=\"display:none;\">\n",
              "        \n",
              "  <svg xmlns=\"http://www.w3.org/2000/svg\" height=\"24px\"viewBox=\"0 0 24 24\"\n",
              "       width=\"24px\">\n",
              "    <path d=\"M0 0h24v24H0V0z\" fill=\"none\"/>\n",
              "    <path d=\"M18.56 5.44l.94 2.06.94-2.06 2.06-.94-2.06-.94-.94-2.06-.94 2.06-2.06.94zm-11 1L8.5 8.5l.94-2.06 2.06-.94-2.06-.94L8.5 2.5l-.94 2.06-2.06.94zm10 10l.94 2.06.94-2.06 2.06-.94-2.06-.94-.94-2.06-.94 2.06-2.06.94z\"/><path d=\"M17.41 7.96l-1.37-1.37c-.4-.4-.92-.59-1.43-.59-.52 0-1.04.2-1.43.59L10.3 9.45l-7.72 7.72c-.78.78-.78 2.05 0 2.83L4 21.41c.39.39.9.59 1.41.59.51 0 1.02-.2 1.41-.59l7.78-7.78 2.81-2.81c.8-.78.8-2.07 0-2.86zM5.41 20L4 18.59l7.72-7.72 1.47 1.35L5.41 20z\"/>\n",
              "  </svg>\n",
              "      </button>\n",
              "      \n",
              "  <style>\n",
              "    .colab-df-container {\n",
              "      display:flex;\n",
              "      flex-wrap:wrap;\n",
              "      gap: 12px;\n",
              "    }\n",
              "\n",
              "    .colab-df-convert {\n",
              "      background-color: #E8F0FE;\n",
              "      border: none;\n",
              "      border-radius: 50%;\n",
              "      cursor: pointer;\n",
              "      display: none;\n",
              "      fill: #1967D2;\n",
              "      height: 32px;\n",
              "      padding: 0 0 0 0;\n",
              "      width: 32px;\n",
              "    }\n",
              "\n",
              "    .colab-df-convert:hover {\n",
              "      background-color: #E2EBFA;\n",
              "      box-shadow: 0px 1px 2px rgba(60, 64, 67, 0.3), 0px 1px 3px 1px rgba(60, 64, 67, 0.15);\n",
              "      fill: #174EA6;\n",
              "    }\n",
              "\n",
              "    [theme=dark] .colab-df-convert {\n",
              "      background-color: #3B4455;\n",
              "      fill: #D2E3FC;\n",
              "    }\n",
              "\n",
              "    [theme=dark] .colab-df-convert:hover {\n",
              "      background-color: #434B5C;\n",
              "      box-shadow: 0px 1px 3px 1px rgba(0, 0, 0, 0.15);\n",
              "      filter: drop-shadow(0px 1px 2px rgba(0, 0, 0, 0.3));\n",
              "      fill: #FFFFFF;\n",
              "    }\n",
              "  </style>\n",
              "\n",
              "      <script>\n",
              "        const buttonEl =\n",
              "          document.querySelector('#df-bc725bac-93e9-4850-b134-d0dd9ff97e43 button.colab-df-convert');\n",
              "        buttonEl.style.display =\n",
              "          google.colab.kernel.accessAllowed ? 'block' : 'none';\n",
              "\n",
              "        async function convertToInteractive(key) {\n",
              "          const element = document.querySelector('#df-bc725bac-93e9-4850-b134-d0dd9ff97e43');\n",
              "          const dataTable =\n",
              "            await google.colab.kernel.invokeFunction('convertToInteractive',\n",
              "                                                     [key], {});\n",
              "          if (!dataTable) return;\n",
              "\n",
              "          const docLinkHtml = 'Like what you see? Visit the ' +\n",
              "            '<a target=\"_blank\" href=https://colab.research.google.com/notebooks/data_table.ipynb>data table notebook</a>'\n",
              "            + ' to learn more about interactive tables.';\n",
              "          element.innerHTML = '';\n",
              "          dataTable['output_type'] = 'display_data';\n",
              "          await google.colab.output.renderOutput(dataTable, element);\n",
              "          const docLink = document.createElement('div');\n",
              "          docLink.innerHTML = docLinkHtml;\n",
              "          element.appendChild(docLink);\n",
              "        }\n",
              "      </script>\n",
              "    </div>\n",
              "  </div>\n",
              "  "
            ]
          },
          "metadata": {},
          "execution_count": 8
        }
      ]
    },
    {
      "cell_type": "markdown",
      "source": [
        "Correlation:\n",
        "\n",
        "1.Positive Correlation\n",
        "2.Negative Correlation"
      ],
      "metadata": {
        "id": "MnoGP4MqAIwD"
      }
    },
    {
      "cell_type": "code",
      "source": [
        "correlation = gold_data.corr()"
      ],
      "metadata": {
        "id": "KTzjayWHAKsI"
      },
      "execution_count": 9,
      "outputs": []
    },
    {
      "cell_type": "code",
      "source": [
        "plt.figure(figsize = (8,8))\n",
        "sns.heatmap(correlation, cbar=True, square=True, fmt='.1f',annot=True, annot_kws={'size':8}, cmap='Blues')"
      ],
      "metadata": {
        "colab": {
          "base_uri": "https://localhost:8080/",
          "height": 487
        },
        "id": "EePTbWPbAXKL",
        "outputId": "265b2d75-007f-45e7-824e-212ce8002c98"
      },
      "execution_count": 10,
      "outputs": [
        {
          "output_type": "execute_result",
          "data": {
            "text/plain": [
              "<matplotlib.axes._subplots.AxesSubplot at 0x7f9f5d860b10>"
            ]
          },
          "metadata": {},
          "execution_count": 10
        },
        {
          "output_type": "display_data",
          "data": {
            "text/plain": [
              "<Figure size 576x576 with 2 Axes>"
            ],
            "image/png": "[encoded data removed]"
          },
          "metadata": {
            "needs_background": "light"
          }
        }
      ]
    },
    {
      "cell_type": "code",
      "source": [
        "print(correlation['GLD'])"
      ],
      "metadata": {
        "colab": {
          "base_uri": "https://localhost:8080/"
        },
        "id": "oAD0ycHZAeW9",
        "outputId": "ce0c1f8c-ed82-410a-8301-76afb6b9015a"
      },
      "execution_count": 11,
      "outputs": [
        {
          "output_type": "stream",
          "name": "stdout",
          "text": [
            "SPX        0.049345\n",
            "GLD        1.000000\n",
            "USO       -0.186360\n",
            "SLV        0.866632\n",
            "EUR/USD   -0.024375\n",
            "Name: GLD, dtype: float64\n"
          ]
        }
      ]
    },
    {
      "cell_type": "code",
      "source": [
        "sns.distplot(gold_data['GLD'],color='green')"
      ],
      "metadata": {
        "colab": {
          "base_uri": "https://localhost:8080/",
          "height": 355
        },
        "id": "DPOvNB5dAnI2",
        "outputId": "051a73d5-b9f6-457e-e229-ce1bebbdf899"
      },
      "execution_count": 12,
      "outputs": [
        {
          "output_type": "stream",
          "name": "stderr",
          "text": [
            "/usr/local/lib/python3.7/dist-packages/seaborn/distributions.py:2619: FutureWarning: `distplot` is a deprecated function and will be removed in a future version. Please adapt your code to use either `displot` (a figure-level function with similar flexibility) or `histplot` (an axes-level function for histograms).\n",
            "  warnings.warn(msg, FutureWarning)\n"
          ]
        },
        {
          "output_type": "execute_result",
          "data": {
            "text/plain": [
              "<matplotlib.axes._subplots.AxesSubplot at 0x7f9f5aa73c10>"
            ]
          },
          "metadata": {},
          "execution_count": 12
        },
        {
          "output_type": "display_data",
          "data": {
            "text/plain": [
              "<Figure size 432x288 with 1 Axes>"
            ],
            "image/png": "[encoded data removed]"
          },
          "metadata": {
            "needs_background": "light"
          }
        }
      ]
    },
    {
      "cell_type": "markdown",
      "source": [
        "Splitting the Features and Target"
      ],
      "metadata": {
        "id": "brE7ksn-AueD"
      }
    },
    {
      "cell_type": "code",
      "source": [
        "X = gold_data.drop(['Date','GLD'],axis=1)\n",
        "Y = gold_data['GLD']"
      ],
      "metadata": {
        "id": "7J4v9H4nAvuV"
      },
      "execution_count": 13,
      "outputs": []
    },
    {
      "cell_type": "code",
      "source": [
        "print(X)"
      ],
      "metadata": {
        "colab": {
          "base_uri": "https://localhost:8080/"
        },
        "id": "F1Y20b3TA0Z5",
        "outputId": "3926c75c-9ee0-43f7-fa8c-b871932a888a"
      },
      "execution_count": 14,
      "outputs": [
        {
          "output_type": "stream",
          "name": "stdout",
          "text": [
            "              SPX        USO      SLV   EUR/USD\n",
            "0     1447.160034  78.470001  15.1800  1.471692\n",
            "1     1447.160034  78.370003  15.2850  1.474491\n",
            "2     1411.630005  77.309998  15.1670  1.475492\n",
            "3     1416.180054  75.500000  15.0530  1.468299\n",
            "4     1390.189941  76.059998  15.5900  1.557099\n",
            "...           ...        ...      ...       ...\n",
            "2285  2671.919922  14.060000  15.5100  1.186789\n",
            "2286  2697.790039  14.370000  15.5300  1.184722\n",
            "2287  2723.070068  14.410000  15.7400  1.191753\n",
            "2288  2730.129883  14.380000  15.5600  1.193118\n",
            "2289  2725.780029  14.405800  15.4542  1.182033\n",
            "\n",
            "[2290 rows x 4 columns]\n"
          ]
        }
      ]
    },
    {
      "cell_type": "code",
      "source": [
        "print(Y)"
      ],
      "metadata": {
        "colab": {
          "base_uri": "https://localhost:8080/"
        },
        "id": "tSUcjCRzA40F",
        "outputId": "94352f2c-9c20-46b4-fdf2-d0b11e38995a"
      },
      "execution_count": 15,
      "outputs": [
        {
          "output_type": "stream",
          "name": "stdout",
          "text": [
            "0        84.860001\n",
            "1        85.570000\n",
            "2        85.129997\n",
            "3        84.769997\n",
            "4        86.779999\n",
            "           ...    \n",
            "2285    124.589996\n",
            "2286    124.330002\n",
            "2287    125.180000\n",
            "2288    124.489998\n",
            "2289    122.543800\n",
            "Name: GLD, Length: 2290, dtype: float64\n"
          ]
        }
      ]
    },
    {
      "cell_type": "code",
      "source": [
        "X_train, X_test, Y_train, Y_test = train_test_split(X, Y, test_size = 0.2, random_state=2)"
      ],
      "metadata": {
        "id": "WZUBBsY_A9LG"
      },
      "execution_count": 16,
      "outputs": []
    },
    {
      "cell_type": "markdown",
      "source": [
        "Model Training: Random Forest Regressor"
      ],
      "metadata": {
        "id": "M-sHIjWfCkNe"
      }
    },
    {
      "cell_type": "code",
      "source": [
        "regressor = RandomForestRegressor(n_estimators=100)"
      ],
      "metadata": {
        "id": "g0hzOQ0DClJB"
      },
      "execution_count": 17,
      "outputs": []
    },
    {
      "cell_type": "code",
      "source": [
        "regressor.fit(X_train,Y_train)"
      ],
      "metadata": {
        "colab": {
          "base_uri": "https://localhost:8080/"
        },
        "id": "NCmtB8fwCo1r",
        "outputId": "7b2d686e-6eb0-4447-94ed-ace5df1cab97"
      },
      "execution_count": 18,
      "outputs": [
        {
          "output_type": "execute_result",
          "data": {
            "text/plain": [
              "RandomForestRegressor()"
            ]
          },
          "metadata": {},
          "execution_count": 18
        }
      ]
    },
    {
      "cell_type": "code",
      "source": [
        "test_data_prediction = regressor.predict(X_test)"
      ],
      "metadata": {
        "id": "h7sDxVpkCuio"
      },
      "execution_count": 19,
      "outputs": []
    },
    {
      "cell_type": "code",
      "source": [
        "print(test_data_prediction)"
      ],
      "metadata": {
        "colab": {
          "base_uri": "https://localhost:8080/"
        },
        "id": "Gq9bRQ4SC59l",
        "outputId": "72a62099-adcf-47b4-9b5b-1149017541da"
      },
      "execution_count": 20,
      "outputs": [
        {
          "output_type": "stream",
          "name": "stdout",
          "text": [
            "[168.46489916  82.15959983 115.94690059 127.7769006  120.80960106\n",
            " 154.70129715 150.64059819 126.04150045 117.46969862 125.89550163\n",
            " 116.9337011  172.51550079 141.56389806 167.74069853 115.4102999\n",
            " 117.77320043 139.98490387 170.04860023 159.90360298 156.1892999\n",
            " 155.15889992 125.20979983 176.44579929 156.76560351 125.41790059\n",
            "  93.6605994   78.1479002  120.30900009 119.09439901 167.48670028\n",
            "  88.17710032 125.13479991  91.01580078 117.82340029 121.17349932\n",
            " 136.17060112 115.35560105 115.27550059 147.3953     107.06100104\n",
            " 104.10150218  87.1807979  126.48520086 118.17079995 153.87999884\n",
            " 119.58690003 108.2463001  108.02649795  93.15960055 127.25929746\n",
            "  74.94110041 113.68659946 121.25529958 111.20729912 118.88769876\n",
            " 120.76219905 159.39769954 167.60520142 147.15559738  85.91549872\n",
            "  94.52160033  86.88839903  90.33300026 119.1188007  126.37780043\n",
            " 127.57579942 170.3094     122.21979934 117.31309887  98.45670008\n",
            " 168.54840164 143.19419899 131.43670187 121.199002   121.7051995\n",
            " 119.87310032 114.44450185 118.37290052 107.15630095 127.91580055\n",
            " 114.09369979 107.32809963 116.6958009  119.50959894  88.93040029\n",
            "  88.3040985  146.73720292 127.19000022 113.59510031 109.86579814\n",
            " 108.25429909  77.42509897 169.30710202 114.06479921 121.7015991\n",
            " 127.9033017  154.97689795  91.82539936 134.87950131 158.27730263\n",
            " 125.73210026 125.40350076 130.65180223 114.78440141 119.70710012\n",
            "  92.09410021 109.69219923 168.73349972 157.56399983 114.21649957\n",
            " 106.82260133  79.85919988 113.30220029 125.77360072 107.18349933\n",
            " 119.73410131 155.76680298 159.79789971 119.75189996 134.78780301\n",
            " 101.23580004 117.63269778 119.22200015 112.97680089 102.78269951\n",
            " 160.02239811  98.95520029 147.6393993  125.50220076 169.6495992\n",
            " 125.78119932 127.27909751 127.6698013  113.69249915 113.09290063\n",
            " 123.70229904 102.23149907  89.10259971 124.15349966 101.51929954\n",
            " 107.28179915 113.5666004  117.2807008   98.81009929 121.91800022\n",
            " 163.63259967  87.4196984  106.71719987 117.16480085 127.61750128\n",
            " 124.02370073  80.61439931 120.29130053 158.29169801  88.0268998\n",
            " 109.97789966 118.89429911 172.72039877 103.01569923 105.65550044\n",
            " 122.19990038 158.43089798  87.70709828  93.28730084 112.8246001\n",
            " 177.8659993  114.28959984 119.2275999   94.69080082 125.70050027\n",
            " 166.164801   114.83270098 116.86920152  88.31099859 148.63130048\n",
            " 120.5291991   89.56129999 112.07620002 117.4273003  118.58320136\n",
            "  88.24059957  94.48000025 117.16010046 118.64830171 120.11170043\n",
            " 126.50749888 121.87779992 151.0683998  165.49370039 118.62239944\n",
            " 120.29360154 150.75330016 118.5871992  172.95349862 104.82179933\n",
            " 104.91620126 149.20950055 113.95770098 124.87260137 147.30399954\n",
            " 119.61400085 115.5636005  112.65400013 113.58300174 140.07740119\n",
            " 117.6767977  102.85760013 115.95260097 103.51510159  98.31480015\n",
            " 117.4865008   90.58600025  91.70010033 153.52879814 102.70519997\n",
            " 154.45140087 114.38150153 138.44370153  90.28289842 115.53619954\n",
            " 114.3294996  123.04980051 121.69290041 165.05740184  92.98049957\n",
            " 135.19890071 121.42859909 120.67870032 104.65380037 142.63800255\n",
            " 121.33099933 116.66510051 113.42920043 127.26849771 123.10989929\n",
            " 125.73179952 121.31090035  86.76969902 132.77150066 144.67580216\n",
            "  92.60669948 158.64629966 158.48090228 126.42779895 165.06239944\n",
            " 108.79829903 109.87560084 103.61849813  94.25970112 128.02050284\n",
            " 107.09630054 161.68859993 121.91960025 132.12510063 130.6321016\n",
            " 160.50429926  90.28969844 175.5847019  128.00400029 126.60599891\n",
            "  86.45009921 124.34979906 150.33499722  89.68050021 106.86659965\n",
            " 108.88729995  84.27249905 135.94250055 155.01660233 138.3380037\n",
            "  73.9021003  153.07750058 125.91509989 126.76249996 127.59409868\n",
            " 108.38629929 156.40510017 114.48750112 116.91640122 124.8762994\n",
            " 154.06870152 121.23120001 156.44289844  92.91010054 125.46830123\n",
            " 125.2862      87.68640026  92.13639934 126.17550023 128.61200393\n",
            " 113.13070059 117.55019721 121.00979995 127.15139852 119.74250137\n",
            " 136.5451018   93.96579949 119.66480021 113.10590086  94.31979927\n",
            " 108.81599969  86.93159926 108.99269957  89.78029968  92.69440001\n",
            " 131.85390305 162.47110047  89.19140015 119.6426009  133.31040152\n",
            " 123.98900027 128.44360223 102.01819853  88.88749883 131.591601\n",
            " 120.37160007 108.65619961 169.07060067 115.20830014  86.57219902\n",
            " 118.86350054  91.09709987 161.80870002 116.53580052 121.3966999\n",
            " 160.09159832 120.22069901 112.7730994  108.43589884 126.91719941\n",
            "  76.35000029 103.01089995 127.84720239 121.74739951  92.64670023\n",
            " 132.30570093 118.08320151 116.06300023 154.47880257 159.97600068\n",
            " 110.05919937 152.95249811 119.27860132 160.65860203 118.36540021\n",
            " 157.651699   115.13189955 116.56389999 148.91029878 114.8225008\n",
            " 125.75309895 165.43849978 117.51160027 125.09829961 153.40340333\n",
            " 153.686602   132.22689999 114.75030041 121.28700196 125.375901\n",
            "  89.74340044 123.19509988 155.30180161 111.67270034 106.71419936\n",
            " 161.48590122 118.45540008 165.78029967 134.32330055 114.85659971\n",
            " 152.85969784 168.75830045 114.49410037 113.87270136 158.66199863\n",
            "  85.4577988  127.10150081 127.95420046 128.99309996 124.4004009\n",
            " 123.96310099  90.46120021 152.89689995  96.97839977 137.19210027\n",
            "  89.21199905 107.25629985 115.21140066 112.57730057 124.34799941\n",
            "  91.46679877 125.45880118 162.58419844 120.05559891 165.21870115\n",
            " 126.67339834 112.23979999 127.65879932  94.82989913  90.76309994\n",
            " 103.02799908 120.72799964  82.99809937 126.31410019 160.87320534\n",
            " 117.33080087 118.23489962 119.72489995 122.84949987 120.10040124\n",
            " 121.51260031 118.1892006  107.16140029 148.48480085 126.00009886\n",
            " 115.80540021  74.06490015 127.86550078 154.15490087 122.43199965\n",
            " 125.66210051  88.78949992 103.53409861 124.48710073 120.31920038\n",
            "  73.47330084 151.6458     120.99450001 104.60530019  86.56909793\n",
            " 115.11999912 172.16949781 120.13240018 160.23319723 113.17529935\n",
            " 121.50390006 118.71030099  95.86839998 118.63210002 125.96050054\n",
            " 118.60009933  96.16710068 154.05190133 122.1632002  147.9937997\n",
            " 159.50390188 113.89230035 122.58029933 150.21089775 126.97380049\n",
            " 166.02990009 136.71090076 119.92919947 167.29279942 108.27549983\n",
            " 121.7403986  137.59670081 106.36829888]\n"
          ]
        }
      ]
    },
    {
      "cell_type": "code",
      "source": [
        "error_score = metrics.r2_score(Y_test, test_data_prediction)\n",
        "print(\"R squared error : \", error_score)"
      ],
      "metadata": {
        "colab": {
          "base_uri": "https://localhost:8080/"
        },
        "id": "jDiMXqP-C8Zs",
        "outputId": "e2ea8d74-bfb5-4cb5-bb05-80be035dd6db"
      },
      "execution_count": 26,
      "outputs": [
        {
          "output_type": "stream",
          "name": "stdout",
          "text": [
            "R squared error :  0.9891555936346905\n"
          ]
        }
      ]
    },
    {
      "cell_type": "markdown",
      "source": [
        "Linneare Regression"
      ],
      "metadata": {
        "id": "YBQ4v9MrXPsY"
      }
    },
    {
      "cell_type": "code",
      "source": [
        "from sklearn.linear_model import LinearRegression\n",
        "Emon=LinearRegression()\n",
        "Emon.fit(X_train, Y_train)"
      ],
      "metadata": {
        "colab": {
          "base_uri": "https://localhost:8080/"
        },
        "id": "0nGO5zvQMnfr",
        "outputId": "b15ffc61-4f49-43a0-d5ad-b0c10f57dfc7"
      },
      "execution_count": 39,
      "outputs": [
        {
          "output_type": "execute_result",
          "data": {
            "text/plain": [
              "LinearRegression()"
            ]
          },
          "metadata": {},
          "execution_count": 39
        }
      ]
    },
    {
      "cell_type": "code",
      "source": [
        "Emon.predict (X_test)"
      ],
      "metadata": {
        "colab": {
          "base_uri": "https://localhost:8080/"
        },
        "id": "A2I9D4YQM07y",
        "outputId": "422556b3-f9ff-468c-872c-67e73e2a10e4"
      },
      "execution_count": 33,
      "outputs": [
        {
          "output_type": "execute_result",
          "data": {
            "text/plain": [
              "array([159.45290968,  81.50858067, 113.4868037 , 128.55153817,\n",
              "       126.20403783, 141.31818338, 165.49416492, 124.44197659,\n",
              "       113.95389904, 122.9965895 , 113.95492464, 174.89529849,\n",
              "       132.66890174, 159.24793304, 118.8791679 , 122.14315717,\n",
              "       150.37153054, 161.27175405, 152.2792036 , 162.19946709,\n",
              "       145.88372183, 118.07669395, 180.21729122, 178.13331554,\n",
              "       123.51701986,  98.82914322,  76.63486248, 119.38435511,\n",
              "       113.85027665, 159.25706609,  93.76037617, 120.05334649,\n",
              "        88.61086583, 114.28801659, 112.77954274, 144.19518102,\n",
              "       118.78252489, 115.87334354, 144.06409553, 113.81864246,\n",
              "       100.49676727,  89.42842238, 120.36720699, 110.47635305,\n",
              "       146.4894628 , 119.30321261, 110.99311348, 111.3386287 ,\n",
              "        96.48139076, 123.40842816,  79.51413425, 115.36111603,\n",
              "       121.78896764, 114.55367722, 120.9074622 , 117.10612464,\n",
              "       152.31198525, 182.7735091 , 196.73570503,  91.06670951,\n",
              "       101.92097594,  87.48443506,  94.33158785, 119.17357764,\n",
              "       121.8935122 , 125.85678089, 163.2699701 , 122.91100556,\n",
              "       113.55098736, 104.06905043, 155.16775229, 176.87972077,\n",
              "       125.62460858, 113.85896766, 119.69577146, 120.03159609,\n",
              "       117.85194226, 118.35897733, 113.72954121, 129.97412373,\n",
              "       121.74279861, 104.64163725, 117.17374823, 126.31757797,\n",
              "        94.63054496,  88.6429881 , 173.79414659, 123.3889615 ,\n",
              "       121.11367109, 106.85139516, 102.43120839,  75.64721451,\n",
              "       160.63204133, 116.53485791, 123.43284852, 128.90964962,\n",
              "       141.9754171 ,  94.90681665, 140.59107397, 150.88254462,\n",
              "       120.61400122, 126.18758167, 126.15751557, 117.79050312,\n",
              "       120.23630249,  96.07847005, 108.46289277, 160.74032164,\n",
              "       149.25506194, 116.90461024, 101.89683477,  78.55100685,\n",
              "       113.55252108, 121.86482779, 111.50766509, 119.97033408,\n",
              "       144.93538115, 150.48099293, 120.46444466, 148.63103233,\n",
              "       102.36169588, 113.04232004, 116.67313346, 114.17074491,\n",
              "       111.72097362, 149.60529086, 103.27069375, 162.8243783 ,\n",
              "       127.26240013, 159.3553434 , 122.69414947, 123.01751489,\n",
              "       121.65730575, 114.16407868, 119.73006341, 121.6690294 ,\n",
              "       110.41148326,  93.51351227, 120.88718035, 105.29371566,\n",
              "       105.74311748, 121.82956746, 123.37061551, 104.36058862,\n",
              "       124.41163091, 157.15019835,  90.2875932 , 111.75426942,\n",
              "       116.24341673, 129.71742482, 122.66204747,  86.86560029,\n",
              "       125.58104783, 149.1558729 ,  93.20088142, 113.41951717,\n",
              "       114.76473252, 174.20857764, 111.54818695, 112.26438102,\n",
              "       124.60042052, 149.13827841,  92.28668121,  96.62221445,\n",
              "       120.33971987, 181.05999744, 122.20840259, 116.75008011,\n",
              "        99.19024942, 119.31093226, 153.69884139, 117.41344481,\n",
              "       116.04572722,  88.49265654, 201.18121904, 112.70327442,\n",
              "        95.90817139, 110.27893385, 110.79239714, 124.15722345,\n",
              "        91.40940976,  99.25381492, 118.22481586, 111.46207587,\n",
              "       120.21558021, 123.73713755, 116.59830111, 149.21680142,\n",
              "       157.42793857, 121.43291003, 118.67130713, 145.28995075,\n",
              "       111.46213774, 173.82514998, 106.34128071, 112.64167754,\n",
              "       202.03133513, 121.34066544, 123.19875899, 162.56606178,\n",
              "       111.96236108, 116.9192883 , 110.19610625, 111.5230842 ,\n",
              "       143.44486659, 113.74396159, 111.96962888, 116.62448493,\n",
              "       100.72432155, 105.04545753, 119.94849788,  96.83170431,\n",
              "        95.42249477, 143.72420099, 111.70859517, 145.44386748,\n",
              "       112.09462627, 159.67384334,  90.69074117, 113.87973255,\n",
              "       117.10614529, 120.83182786, 116.0398794 , 156.17508598,\n",
              "       100.41143402, 138.51120883, 122.80981088, 121.73144105,\n",
              "       111.22063915, 145.12280834, 119.62835114, 118.93736976,\n",
              "       121.12559311, 123.49477293, 119.45384482, 121.68552767,\n",
              "       122.79803947,  89.85590671, 127.5285141 , 143.49374375,\n",
              "        89.13511679, 163.81560356, 150.56348474, 125.36238887,\n",
              "       157.29133434, 118.5962307 , 114.76924715, 110.41074389,\n",
              "        99.27940825, 129.19134616, 104.91019759, 164.50553141,\n",
              "       124.27951869, 127.94576049, 126.33265293, 152.92260953,\n",
              "        91.02635368, 180.12688271, 121.33206179, 123.3805987 ,\n",
              "        92.93820488, 118.91049021, 167.74751536,  95.97626635,\n",
              "       112.07153519, 105.48610035,  82.39309463, 129.36811507,\n",
              "       147.6260147 , 145.12559953,  81.06850359, 145.72494054,\n",
              "       125.0873386 , 123.29241873, 121.55626896, 106.21901712,\n",
              "       144.37736667, 117.65217212, 123.67398912, 119.81906032,\n",
              "       146.09219012, 121.31201565, 143.70780585,  96.75332067,\n",
              "       121.04949103, 118.85801666,  95.85724353,  95.7005734 ,\n",
              "       122.83735573, 120.23931521, 114.752374  , 111.3848162 ,\n",
              "       122.11769927, 123.70751131, 118.59965555, 144.90842651,\n",
              "        99.26420076, 122.09583773, 109.34073179,  97.6923005 ,\n",
              "       103.82858753,  82.17668901, 108.48564656,  94.58386165,\n",
              "        99.36237847, 127.92063336, 154.53006174,  94.83214737,\n",
              "       120.56119213, 125.27193692, 123.741244  , 123.153979  ,\n",
              "       110.65471319,  93.77130654, 144.04886361, 118.70953745,\n",
              "       111.64287284, 159.07092617, 116.22058371,  89.59449933,\n",
              "       125.3954476 ,  93.77796895, 155.10683142, 119.70840177,\n",
              "       120.89033884, 150.21060248, 112.07266487, 112.17031901,\n",
              "       103.40785949, 121.88973962,  79.39417285, 111.32332444,\n",
              "       129.57981579, 121.20050645,  97.51862149, 138.03369157,\n",
              "       117.14618729, 120.79220009, 147.4118315 , 149.15097787,\n",
              "       115.34630618, 156.03123936, 125.80296997, 150.0364708 ,\n",
              "       125.49592695, 152.08236215, 113.66641537, 120.94533895,\n",
              "       160.95425308, 116.80893399, 125.33117629, 157.17971833,\n",
              "       120.4838592 , 125.66320966, 147.16276169, 141.23191504,\n",
              "       127.86839214, 116.49844827, 113.86003172, 125.56616732,\n",
              "        93.7151239 , 119.91858182, 143.5779658 , 110.49294691,\n",
              "       111.56151552, 153.32389533, 117.5161175 , 159.14273208,\n",
              "       130.61792167, 120.47996196, 140.69432122, 162.0360364 ,\n",
              "       113.23249654, 115.78985464, 153.13016467,  87.59723109,\n",
              "       120.75954152, 129.37236482, 125.08256637, 124.47800179,\n",
              "       122.52210381,  94.36181387, 142.56208797, 104.65794024,\n",
              "       145.68266189,  93.1734386 , 104.70960227, 116.54046577,\n",
              "       120.5260613 , 120.44862385,  94.68963425, 120.59695494,\n",
              "       154.15009906, 117.18925871, 156.49657478, 123.86401547,\n",
              "       110.41664959, 124.85086427, 100.6794172 ,  94.36971456,\n",
              "       105.71510695, 122.36927215,  79.9786057 , 126.70980467,\n",
              "       152.88190713, 114.88722911, 114.97966394, 119.08904866,\n",
              "       116.79453493, 122.84487067, 120.91030351, 120.88673239,\n",
              "       105.0696433 , 191.90883411, 122.59664436, 116.62755088,\n",
              "        77.84989594, 124.65745662, 143.2709885 , 120.37043229,\n",
              "       121.03655506,  94.50745135, 111.36682253, 119.75471172,\n",
              "       112.48632277,  79.13563026, 142.62965128, 121.89588529,\n",
              "       113.07538385,  88.3918062 , 114.03342237, 163.40511021,\n",
              "       125.20580519, 152.11443433, 113.25319918, 118.62431992,\n",
              "       117.28641957, 104.68078767, 118.41921617, 126.05035311,\n",
              "       120.41292474, 100.69533386, 143.8328044 , 121.01265419,\n",
              "       160.52275467, 149.57414181, 108.42224119, 120.97109044,\n",
              "       158.885207  , 118.21457812, 158.11607219, 143.83779103,\n",
              "       120.47800019, 159.86639242, 111.24045013, 126.4542079 ,\n",
              "       144.93505484, 106.94838427])"
            ]
          },
          "metadata": {},
          "execution_count": 33
        }
      ]
    },
    {
      "cell_type": "code",
      "source": [
        "Emon.score(X_test,Y_test)"
      ],
      "metadata": {
        "colab": {
          "base_uri": "https://localhost:8080/"
        },
        "id": "tJtqJUMoM7w8",
        "outputId": "c9da2dad-5c87-4257-ce20-199c2bb9ec45"
      },
      "execution_count": 35,
      "outputs": [
        {
          "output_type": "execute_result",
          "data": {
            "text/plain": [
              "0.8657886565869237"
            ]
          },
          "metadata": {},
          "execution_count": 35
        }
      ]
    },
    {
      "cell_type": "code",
      "source": [
        "print(Emon.intercept_)"
      ],
      "metadata": {
        "colab": {
          "base_uri": "https://localhost:8080/"
        },
        "id": "tLSOWg0OWDMo",
        "outputId": "096f9650-4529-48ff-bf48-df0455375995"
      },
      "execution_count": 41,
      "outputs": [
        {
          "output_type": "stream",
          "name": "stdout",
          "text": [
            "67.45629268976197\n"
          ]
        }
      ]
    },
    {
      "cell_type": "code",
      "source": [
        "print(Emon.coef_)"
      ],
      "metadata": {
        "colab": {
          "base_uri": "https://localhost:8080/"
        },
        "id": "VFruNpYXWQQc",
        "outputId": "696a66ca-64e0-40af-ea1d-f9717a6456a5"
      },
      "execution_count": 42,
      "outputs": [
        {
          "output_type": "stream",
          "name": "stdout",
          "text": [
            "[ 6.82770004e-03 -2.56764053e-01  3.17723486e+00 -8.99975261e+00]\n"
          ]
        }
      ]
    },
    {
      "cell_type": "markdown",
      "source": [
        "Compare the Actual Values and Predicted Values in a Plot"
      ],
      "metadata": {
        "id": "kCZ1yq_SDKCr"
      }
    },
    {
      "cell_type": "code",
      "source": [
        "Y_test = list(Y_test)"
      ],
      "metadata": {
        "id": "uV9nqaKQDE3k"
      },
      "execution_count": 36,
      "outputs": []
    },
    {
      "cell_type": "code",
      "source": [
        "plt.plot(Y_test, color='blue', label = 'Actual Value')\n",
        "plt.plot(test_data_prediction, color='green', label='Predicted Value')\n",
        "plt.title('Actual Price vs Predicted Price')\n",
        "plt.xlabel('Number of values')\n",
        "plt.ylabel('GLD Price')\n",
        "plt.legend()\n",
        "plt.show()"
      ],
      "metadata": {
        "colab": {
          "base_uri": "https://localhost:8080/",
          "height": 295
        },
        "id": "GYBYMCvgDNiu",
        "outputId": "b63eebd4-7461-410d-9a9c-3b14a2e10185"
      },
      "execution_count": 46,
      "outputs": [
        {
          "output_type": "display_data",
          "data": {
            "text/plain": [
              "<Figure size 432x288 with 1 Axes>"
            ],
            "image/png": "[encoded data removed]"
          },
          "metadata": {
            "needs_background": "light"
          }
        }
      ]
    }
  ]
}